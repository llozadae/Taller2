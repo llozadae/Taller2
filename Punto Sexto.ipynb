{
 "cells": [
  {
   "cell_type": "code",
   "execution_count": null,
   "metadata": {},
   "outputs": [],
   "source": [
    "##SEXTO PUNTO\n",
    "def sin_elementos_repetidos(lista):\n",
    "    if len(lista) == len(set(lista)):\n",
    "        return True\n",
    "    else:\n",
    "        return False\n",
    "lista_numeros = [1, 2, 3, 4, 5]\n",
    "if sin_elementos_repetidos(lista_numeros):\n",
    "    print(\"La lista no tiene elementos repetidos\")\n",
    "else:\n",
    "    print(\"La lista tiene elementos repetidos\")"
   ]
  }
 ],
 "metadata": {
  "language_info": {
   "name": "python"
  },
  "orig_nbformat": 4
 },
 "nbformat": 4,
 "nbformat_minor": 2
}
