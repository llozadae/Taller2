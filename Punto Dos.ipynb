{
 "cells": [
  {
   "cell_type": "code",
   "execution_count": null,
   "metadata": {},
   "outputs": [
    {
     "ename": "",
     "evalue": "",
     "output_type": "error",
     "traceback": [
      "\u001b[1;31mLa ejecución de celdas con 'c:\\Users\\usuario\\AppData\\Local\\Microsoft\\WindowsApps\\python3.7.exe' requiere el paquete ipykernel.\n",
      "\u001b[1;31mRun the following command to install 'ipykernel' into the Python environment. \n",
      "\u001b[1;31mCommand: 'c:/Users/usuario/AppData/Local/Microsoft/WindowsApps/python3.7.exe -m pip install ipykernel -U --user --force-reinstall'"
     ]
    }
   ],
   "source": [
    "Desarrollar un programa que ingrese un número flotante n y separe su parte entera de la parte decimal, y luego entrege los digitos tanto de la parte entera como de la decimal.\n",
    "\n",
    "numero = float(input(\"Ingrese un número decimal: \"))\n",
    "parte_entera, parte_decimal = divmod(numero, 1)\n",
    "parte_entera = int(parte_entera)\n",
    "parte_decimal = abs(parte_decimal)\n",
    "digitos_enteros = [int(digito) for digito in str(parte_entera)]\n",
    "digitos_decimales = [int(digito) for digito in str(parte_decimal)[2:]] # se omite el \"0.\" al inicio\n",
    "print(\"Los dígitos de la parte entera son:\", digitos_enteros)\n",
    "print(\"Los dígitos de la parte decimal son:\", digitos_decimales)\n",
    "16:01"
   ]
  }
 ],
 "metadata": {
  "kernelspec": {
   "display_name": "Python 3",
   "language": "python",
   "name": "python3"
  },
  "language_info": {
   "name": "python",
   "version": "3.7.9"
  },
  "orig_nbformat": 4
 },
 "nbformat": 4,
 "nbformat_minor": 2
}
